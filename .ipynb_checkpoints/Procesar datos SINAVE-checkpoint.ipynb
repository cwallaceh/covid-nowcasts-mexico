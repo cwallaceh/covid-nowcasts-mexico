{
 "cells": [
  {
   "cell_type": "code",
   "execution_count": 218,
   "metadata": {},
   "outputs": [],
   "source": [
    "import pandas as pd\n",
    "import requests\n",
    "import json\n",
    "import ast"
   ]
  },
  {
   "cell_type": "code",
   "execution_count": 219,
   "metadata": {},
   "outputs": [],
   "source": [
    "headers = {'content-type': 'application/json','encoding':'utf-8'}\n",
    "url = 'https://covid19.sinave.gob.mx/Graficasconfirmados.aspx/'"
   ]
  },
  {
   "cell_type": "code",
   "execution_count": 220,
   "metadata": {},
   "outputs": [],
   "source": [
    "# Estados\n",
    "r = requests.post(url + 'Estados', headers=headers)\n",
    "estados = pd.DataFrame(ast.literal_eval(r.json()['d']))\n",
    "estados.columns = ['Estado', 'Region']\n",
    "estados['Region'] = estados['Region'].astype(int)"
   ]
  },
  {
   "cell_type": "code",
   "execution_count": 221,
   "metadata": {},
   "outputs": [],
   "source": [
    "# Datos\n",
    "r = requests.post(url + 'Datos', headers=headers)\n",
    "datos = pd.DataFrame(ast.literal_eval(r.json()['d']))\n",
    "datos.columns = ['Region', 'ToDrop', 'ToDrop', 'Acumulados', 'ToDrop', 'Fecha', 'ToDrop']\n",
    "datos = datos.drop(['ToDrop'], axis=1)\n",
    "datos['Fecha'] = pd.to_datetime(datos['Fecha'], dayfirst=True)\n",
    "datos['Acumulados'] = datos['Acumulados'].astype(int)\n",
    "datos['Region'] = datos['Region'].astype(int)\n",
    "datos = datos.merge(estados, on='Region')\n",
    "datos = datos.set_index(['Region', 'Fecha']).sort_index(level=('Region', 'Fecha'))\n",
    "datos['Anterior'] = datos.groupby('Estado')['Acumulados'].shift()\n",
    "datos[\"Casos\"] = datos[\"Acumulados\"] - datos[\"Anterior\"]"
   ]
  },
  {
   "cell_type": "code",
   "execution_count": 222,
   "metadata": {},
   "outputs": [],
   "source": [
    "# Datos 2\n",
    "r = requests.post(url + 'Datos2', headers=headers)\n",
    "datos2 = pd.DataFrame(ast.literal_eval(r.json()['d']))\n",
    "datos2.columns = ['Region', 'ToDrop', 'ToDrop', 'Acumulados', 'ToDrop', 'Fecha', 'ToDrop']\n",
    "datos2 = datos2.drop(['ToDrop'], axis=1)\n",
    "datos2['Fecha'] = pd.to_datetime(datos2['Fecha'], dayfirst=True)\n",
    "datos2['Acumulados'] = datos2['Acumulados'].astype(int)\n",
    "datos2['Region'] = datos2['Region'].astype(int)\n",
    "datos2 = datos2.merge(estados, on='Region')\n",
    "datos2 = datos2.set_index(['Region', 'Fecha']).sort_index(level=('Region', 'Fecha'))\n",
    "datos2['Anterior'] = datos2.groupby('Estado')['Acumulados'].shift()\n",
    "datos2[\"Casos\"] = datos2[\"Acumulados\"] - datos2[\"Anterior\"]"
   ]
  },
  {
   "cell_type": "code",
   "execution_count": 223,
   "metadata": {},
   "outputs": [
    {
     "data": {
      "text/html": [
       "<div>\n",
       "<style scoped>\n",
       "    .dataframe tbody tr th:only-of-type {\n",
       "        vertical-align: middle;\n",
       "    }\n",
       "\n",
       "    .dataframe tbody tr th {\n",
       "        vertical-align: top;\n",
       "    }\n",
       "\n",
       "    .dataframe thead th {\n",
       "        text-align: right;\n",
       "    }\n",
       "</style>\n",
       "<table border=\"1\" class=\"dataframe\">\n",
       "  <thead>\n",
       "    <tr style=\"text-align: right;\">\n",
       "      <th></th>\n",
       "      <th></th>\n",
       "      <th>Acumulados</th>\n",
       "      <th>Estado</th>\n",
       "      <th>Anterior</th>\n",
       "      <th>Casos</th>\n",
       "    </tr>\n",
       "    <tr>\n",
       "      <th>Region</th>\n",
       "      <th>Fecha</th>\n",
       "      <th></th>\n",
       "      <th></th>\n",
       "      <th></th>\n",
       "      <th></th>\n",
       "    </tr>\n",
       "  </thead>\n",
       "  <tbody>\n",
       "    <tr>\n",
       "      <td rowspan=\"5\" valign=\"top\">18</td>\n",
       "      <td>2020-04-01</td>\n",
       "      <td>8</td>\n",
       "      <td>NAYARIT</td>\n",
       "      <td>NaN</td>\n",
       "      <td>NaN</td>\n",
       "    </tr>\n",
       "    <tr>\n",
       "      <td>2020-04-02</td>\n",
       "      <td>8</td>\n",
       "      <td>NAYARIT</td>\n",
       "      <td>8.0</td>\n",
       "      <td>0.0</td>\n",
       "    </tr>\n",
       "    <tr>\n",
       "      <td>2020-04-03</td>\n",
       "      <td>8</td>\n",
       "      <td>NAYARIT</td>\n",
       "      <td>8.0</td>\n",
       "      <td>0.0</td>\n",
       "    </tr>\n",
       "    <tr>\n",
       "      <td>2020-04-04</td>\n",
       "      <td>9</td>\n",
       "      <td>NAYARIT</td>\n",
       "      <td>8.0</td>\n",
       "      <td>1.0</td>\n",
       "    </tr>\n",
       "    <tr>\n",
       "      <td>2020-04-05</td>\n",
       "      <td>9</td>\n",
       "      <td>NAYARIT</td>\n",
       "      <td>9.0</td>\n",
       "      <td>0.0</td>\n",
       "    </tr>\n",
       "    <tr>\n",
       "      <td>...</td>\n",
       "      <td>...</td>\n",
       "      <td>...</td>\n",
       "      <td>...</td>\n",
       "      <td>...</td>\n",
       "      <td>...</td>\n",
       "    </tr>\n",
       "    <tr>\n",
       "      <td rowspan=\"5\" valign=\"top\">33</td>\n",
       "      <td>2020-07-10</td>\n",
       "      <td>289174</td>\n",
       "      <td>NACIONAL</td>\n",
       "      <td>282283.0</td>\n",
       "      <td>6891.0</td>\n",
       "    </tr>\n",
       "    <tr>\n",
       "      <td>2020-07-11</td>\n",
       "      <td>295268</td>\n",
       "      <td>NACIONAL</td>\n",
       "      <td>289174.0</td>\n",
       "      <td>6094.0</td>\n",
       "    </tr>\n",
       "    <tr>\n",
       "      <td>2020-07-12</td>\n",
       "      <td>299750</td>\n",
       "      <td>NACIONAL</td>\n",
       "      <td>295268.0</td>\n",
       "      <td>4482.0</td>\n",
       "    </tr>\n",
       "    <tr>\n",
       "      <td>2020-07-13</td>\n",
       "      <td>304435</td>\n",
       "      <td>NACIONAL</td>\n",
       "      <td>299750.0</td>\n",
       "      <td>4685.0</td>\n",
       "    </tr>\n",
       "    <tr>\n",
       "      <td>2020-07-14</td>\n",
       "      <td>311486</td>\n",
       "      <td>NACIONAL</td>\n",
       "      <td>304435.0</td>\n",
       "      <td>7051.0</td>\n",
       "    </tr>\n",
       "  </tbody>\n",
       "</table>\n",
       "<p>1680 rows × 4 columns</p>\n",
       "</div>"
      ],
      "text/plain": [
       "                   Acumulados    Estado  Anterior   Casos\n",
       "Region Fecha                                             \n",
       "18     2020-04-01           8   NAYARIT       NaN     NaN\n",
       "       2020-04-02           8   NAYARIT       8.0     0.0\n",
       "       2020-04-03           8   NAYARIT       8.0     0.0\n",
       "       2020-04-04           9   NAYARIT       8.0     1.0\n",
       "       2020-04-05           9   NAYARIT       9.0     0.0\n",
       "...                       ...       ...       ...     ...\n",
       "33     2020-07-10      289174  NACIONAL  282283.0  6891.0\n",
       "       2020-07-11      295268  NACIONAL  289174.0  6094.0\n",
       "       2020-07-12      299750  NACIONAL  295268.0  4482.0\n",
       "       2020-07-13      304435  NACIONAL  299750.0  4685.0\n",
       "       2020-07-14      311486  NACIONAL  304435.0  7051.0\n",
       "\n",
       "[1680 rows x 4 columns]"
      ]
     },
     "execution_count": 223,
     "metadata": {},
     "output_type": "execute_result"
    }
   ],
   "source": [
    "datos2"
   ]
  },
  {
   "cell_type": "code",
   "execution_count": 224,
   "metadata": {},
   "outputs": [],
   "source": [
    "datos = datos.append(datos2)\n",
    "datos = datos[datos[\"Estado\"] != \"NACIONAL\"]"
   ]
  },
  {
   "cell_type": "code",
   "execution_count": 229,
   "metadata": {},
   "outputs": [],
   "source": [
    "import datetime\n",
    "today = datetime.date.today().strftime('%d%m%y')"
   ]
  },
  {
   "cell_type": "code",
   "execution_count": 232,
   "metadata": {
    "scrolled": true
   },
   "outputs": [],
   "source": [
    "casos = pd.DataFrame()\n",
    "casos = datos[[\"Estado\", \"Casos\"]].copy()\n",
    "casos.reset_index(inplace=True)\n",
    "casos.dropna(inplace=True)\n",
    "\n",
    "casos.rename(columns={\"Region\": \"Region_ID\",\n",
    "                      \"Estado\": \"region\", \n",
    "                      \"Casos\": \"cases\",\n",
    "                      \"Fecha\": \"date\"}, inplace=True)\n",
    "\n",
    "casos.drop(columns={\"Region_ID\"}, inplace=True)\n",
    "\n",
    "casos[\"import_status\"] = \"local\"\n",
    "\n",
    "casos.to_csv(\"casos_%s.txt\" % today, index=False)"
   ]
  }
 ],
 "metadata": {
  "kernelspec": {
   "display_name": "Python 3",
   "language": "python",
   "name": "python3"
  },
  "language_info": {
   "codemirror_mode": {
    "name": "ipython",
    "version": 3
   },
   "file_extension": ".py",
   "mimetype": "text/x-python",
   "name": "python",
   "nbconvert_exporter": "python",
   "pygments_lexer": "ipython3",
   "version": "3.7.4"
  }
 },
 "nbformat": 4,
 "nbformat_minor": 2
}
